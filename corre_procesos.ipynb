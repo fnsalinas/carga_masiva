{
 "cells": [
  {
   "cell_type": "code",
   "execution_count": null,
   "metadata": {},
   "outputs": [],
   "source": [
    "from src.processor import DataProcessor"
   ]
  },
  {
   "cell_type": "code",
   "execution_count": null,
   "metadata": {},
   "outputs": [],
   "source": [
    "processor = DataProcessor(\n",
    "    process_id=501,\n",
    "    start_global_date='2023-01-01',\n",
    "    end_global_date='2023-01-01',\n",
    "    interval=\"month\"\n",
    ")\n",
    "\n",
    "resultado = processor.run_process()"
   ]
  },
  {
   "cell_type": "code",
   "execution_count": null,
   "metadata": {},
   "outputs": [],
   "source": [
    "processor = DataProcessor(\n",
    "    process_id=502,\n",
    "    start_global_date='2023-01-01',\n",
    "    end_global_date='2023-01-01',\n",
    "    interval=\"month\"\n",
    ")\n",
    "\n",
    "resultado = processor.run_process()"
   ]
  },
  {
   "cell_type": "code",
   "execution_count": null,
   "metadata": {},
   "outputs": [],
   "source": [
    "processor = DataProcessor(\n",
    "    process_id=503,\n",
    "    start_global_date='2023-01-01',\n",
    "    end_global_date='2023-01-01',\n",
    "    interval=\"month\"\n",
    ")\n",
    "\n",
    "resultado = processor.run_process()"
   ]
  }
 ],
 "metadata": {
  "language_info": {
   "name": "python"
  },
  "orig_nbformat": 4
 },
 "nbformat": 4,
 "nbformat_minor": 2
}
